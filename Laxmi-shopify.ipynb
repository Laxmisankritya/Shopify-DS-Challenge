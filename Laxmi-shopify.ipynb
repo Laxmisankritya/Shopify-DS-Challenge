{
 "cells": [
  {
   "cell_type": "markdown",
   "source": [
    "# Shopify - Winter Data Science Intern Challenge"
   ],
   "metadata": {}
  },
  {
   "cell_type": "markdown",
   "source": [
    "## Question 1"
   ],
   "metadata": {}
  },
  {
   "cell_type": "code",
   "execution_count": 14,
   "source": [
    "import pandas as pd\r\n",
    "import numpy as np\r\n",
    "from scipy import stats\r\n"
   ],
   "outputs": [],
   "metadata": {}
  },
  {
   "cell_type": "code",
   "execution_count": 4,
   "source": [
    "df_sneaker = pd.read_csv('2019 Winter Data Science Intern Challenge Data Set - Sheet1.csv')"
   ],
   "outputs": [],
   "metadata": {}
  },
  {
   "cell_type": "code",
   "execution_count": 5,
   "source": [
    "df_sneaker.head()"
   ],
   "outputs": [
    {
     "output_type": "execute_result",
     "data": {
      "text/html": [
       "<div>\n",
       "<style scoped>\n",
       "    .dataframe tbody tr th:only-of-type {\n",
       "        vertical-align: middle;\n",
       "    }\n",
       "\n",
       "    .dataframe tbody tr th {\n",
       "        vertical-align: top;\n",
       "    }\n",
       "\n",
       "    .dataframe thead th {\n",
       "        text-align: right;\n",
       "    }\n",
       "</style>\n",
       "<table border=\"1\" class=\"dataframe\">\n",
       "  <thead>\n",
       "    <tr style=\"text-align: right;\">\n",
       "      <th></th>\n",
       "      <th>order_id</th>\n",
       "      <th>shop_id</th>\n",
       "      <th>user_id</th>\n",
       "      <th>order_amount</th>\n",
       "      <th>total_items</th>\n",
       "      <th>payment_method</th>\n",
       "      <th>created_at</th>\n",
       "    </tr>\n",
       "  </thead>\n",
       "  <tbody>\n",
       "    <tr>\n",
       "      <th>0</th>\n",
       "      <td>1</td>\n",
       "      <td>53</td>\n",
       "      <td>746</td>\n",
       "      <td>224</td>\n",
       "      <td>2</td>\n",
       "      <td>cash</td>\n",
       "      <td>2017-03-13 12:36:56</td>\n",
       "    </tr>\n",
       "    <tr>\n",
       "      <th>1</th>\n",
       "      <td>2</td>\n",
       "      <td>92</td>\n",
       "      <td>925</td>\n",
       "      <td>90</td>\n",
       "      <td>1</td>\n",
       "      <td>cash</td>\n",
       "      <td>2017-03-03 17:38:52</td>\n",
       "    </tr>\n",
       "    <tr>\n",
       "      <th>2</th>\n",
       "      <td>3</td>\n",
       "      <td>44</td>\n",
       "      <td>861</td>\n",
       "      <td>144</td>\n",
       "      <td>1</td>\n",
       "      <td>cash</td>\n",
       "      <td>2017-03-14 4:23:56</td>\n",
       "    </tr>\n",
       "    <tr>\n",
       "      <th>3</th>\n",
       "      <td>4</td>\n",
       "      <td>18</td>\n",
       "      <td>935</td>\n",
       "      <td>156</td>\n",
       "      <td>1</td>\n",
       "      <td>credit_card</td>\n",
       "      <td>2017-03-26 12:43:37</td>\n",
       "    </tr>\n",
       "    <tr>\n",
       "      <th>4</th>\n",
       "      <td>5</td>\n",
       "      <td>18</td>\n",
       "      <td>883</td>\n",
       "      <td>156</td>\n",
       "      <td>1</td>\n",
       "      <td>credit_card</td>\n",
       "      <td>2017-03-01 4:35:11</td>\n",
       "    </tr>\n",
       "  </tbody>\n",
       "</table>\n",
       "</div>"
      ],
      "text/plain": [
       "   order_id  shop_id  user_id  order_amount  total_items payment_method  \\\n",
       "0         1       53      746           224            2           cash   \n",
       "1         2       92      925            90            1           cash   \n",
       "2         3       44      861           144            1           cash   \n",
       "3         4       18      935           156            1    credit_card   \n",
       "4         5       18      883           156            1    credit_card   \n",
       "\n",
       "            created_at  \n",
       "0  2017-03-13 12:36:56  \n",
       "1  2017-03-03 17:38:52  \n",
       "2   2017-03-14 4:23:56  \n",
       "3  2017-03-26 12:43:37  \n",
       "4   2017-03-01 4:35:11  "
      ]
     },
     "metadata": {},
     "execution_count": 5
    }
   ],
   "metadata": {}
  },
  {
   "cell_type": "markdown",
   "source": [
    "#### Statistical analysis of Order value"
   ],
   "metadata": {}
  },
  {
   "cell_type": "code",
   "execution_count": 10,
   "source": [
    "df_sneaker['order_amount'].describe()"
   ],
   "outputs": [
    {
     "output_type": "execute_result",
     "data": {
      "text/plain": [
       "count      5000.000000\n",
       "mean       3145.128000\n",
       "std       41282.539349\n",
       "min          90.000000\n",
       "25%         163.000000\n",
       "50%         284.000000\n",
       "75%         390.000000\n",
       "max      704000.000000\n",
       "Name: order_amount, dtype: float64"
      ]
     },
     "metadata": {},
     "execution_count": 10
    }
   ],
   "metadata": {}
  },
  {
   "cell_type": "markdown",
   "source": [
    "The statistical analysis of the column `order_amount` suggests that the distribution is highly skewed. The median and quartiles are in the affordable range of sneakers price. However, the mean is extremely high possibly because of some outliers as evident from the range and the max value with extremely high standard deviation."
   ],
   "metadata": {}
  },
  {
   "cell_type": "markdown",
   "source": [
    "#### Further analysis of the outlier/max"
   ],
   "metadata": {}
  },
  {
   "cell_type": "code",
   "execution_count": 57,
   "source": [
    "df_sneaker[df_sneaker['order_amount'] == 704000].head()"
   ],
   "outputs": [
    {
     "output_type": "execute_result",
     "data": {
      "text/html": [
       "<div>\n",
       "<style scoped>\n",
       "    .dataframe tbody tr th:only-of-type {\n",
       "        vertical-align: middle;\n",
       "    }\n",
       "\n",
       "    .dataframe tbody tr th {\n",
       "        vertical-align: top;\n",
       "    }\n",
       "\n",
       "    .dataframe thead th {\n",
       "        text-align: right;\n",
       "    }\n",
       "</style>\n",
       "<table border=\"1\" class=\"dataframe\">\n",
       "  <thead>\n",
       "    <tr style=\"text-align: right;\">\n",
       "      <th></th>\n",
       "      <th>order_id</th>\n",
       "      <th>shop_id</th>\n",
       "      <th>user_id</th>\n",
       "      <th>order_amount</th>\n",
       "      <th>total_items</th>\n",
       "      <th>payment_method</th>\n",
       "      <th>created_at</th>\n",
       "    </tr>\n",
       "  </thead>\n",
       "  <tbody>\n",
       "    <tr>\n",
       "      <th>15</th>\n",
       "      <td>16</td>\n",
       "      <td>42</td>\n",
       "      <td>607</td>\n",
       "      <td>704000</td>\n",
       "      <td>2000</td>\n",
       "      <td>credit_card</td>\n",
       "      <td>2017-03-07 4:00:00</td>\n",
       "    </tr>\n",
       "    <tr>\n",
       "      <th>60</th>\n",
       "      <td>61</td>\n",
       "      <td>42</td>\n",
       "      <td>607</td>\n",
       "      <td>704000</td>\n",
       "      <td>2000</td>\n",
       "      <td>credit_card</td>\n",
       "      <td>2017-03-04 4:00:00</td>\n",
       "    </tr>\n",
       "    <tr>\n",
       "      <th>520</th>\n",
       "      <td>521</td>\n",
       "      <td>42</td>\n",
       "      <td>607</td>\n",
       "      <td>704000</td>\n",
       "      <td>2000</td>\n",
       "      <td>credit_card</td>\n",
       "      <td>2017-03-02 4:00:00</td>\n",
       "    </tr>\n",
       "    <tr>\n",
       "      <th>1104</th>\n",
       "      <td>1105</td>\n",
       "      <td>42</td>\n",
       "      <td>607</td>\n",
       "      <td>704000</td>\n",
       "      <td>2000</td>\n",
       "      <td>credit_card</td>\n",
       "      <td>2017-03-24 4:00:00</td>\n",
       "    </tr>\n",
       "    <tr>\n",
       "      <th>1362</th>\n",
       "      <td>1363</td>\n",
       "      <td>42</td>\n",
       "      <td>607</td>\n",
       "      <td>704000</td>\n",
       "      <td>2000</td>\n",
       "      <td>credit_card</td>\n",
       "      <td>2017-03-15 4:00:00</td>\n",
       "    </tr>\n",
       "  </tbody>\n",
       "</table>\n",
       "</div>"
      ],
      "text/plain": [
       "      order_id  shop_id  user_id  order_amount  total_items payment_method  \\\n",
       "15          16       42      607        704000         2000    credit_card   \n",
       "60          61       42      607        704000         2000    credit_card   \n",
       "520        521       42      607        704000         2000    credit_card   \n",
       "1104      1105       42      607        704000         2000    credit_card   \n",
       "1362      1363       42      607        704000         2000    credit_card   \n",
       "\n",
       "              created_at  \n",
       "15    2017-03-07 4:00:00  \n",
       "60    2017-03-04 4:00:00  \n",
       "520   2017-03-02 4:00:00  \n",
       "1104  2017-03-24 4:00:00  \n",
       "1362  2017-03-15 4:00:00  "
      ]
     },
     "metadata": {},
     "execution_count": 57
    }
   ],
   "metadata": {}
  },
  {
   "cell_type": "markdown",
   "source": [
    "It can be observed that for these max values in the `order_amount` column, the total number of items are extremely high compared to the values closer to median. Also, it is interesting to observe that all these maxima are from the same store ordered at the exact same time each day indicating some wholesale to retail kind of shipment. "
   ],
   "metadata": {}
  },
  {
   "cell_type": "markdown",
   "source": [
    "#### Outlier detection using boxplot"
   ],
   "metadata": {}
  },
  {
   "cell_type": "code",
   "execution_count": 61,
   "source": [
    "df_sneaker.boxplot(column='order_amount')"
   ],
   "outputs": [
    {
     "output_type": "execute_result",
     "data": {
      "text/plain": [
       "<AxesSubplot:>"
      ]
     },
     "metadata": {},
     "execution_count": 61
    },
    {
     "output_type": "display_data",
     "data": {
      "image/png": "[encoded data removed]",
      "text/plain": [
       "<Figure size 432x288 with 1 Axes>"
      ]
     },
     "metadata": {
      "needs_background": "light"
     }
    }
   ],
   "metadata": {}
  },
  {
   "cell_type": "markdown",
   "source": [
    "It can be observed from the bxoplot that there are a couple of outliers in the `order_amount` column which is leading to the skewness in the distribution and the Average order value (AOV) is incorrectly calculated as $3145.13 which is too high for sneakers"
   ],
   "metadata": {}
  },
  {
   "cell_type": "markdown",
   "source": [
    "## a. Think about what could be going wrong with our calculation. Think about a better way to evaluate this data. "
   ],
   "metadata": {}
  },
  {
   "cell_type": "markdown",
   "source": [
    "**Answer**. There are multiple ways of evaluating the dataset and defining a more robust and accurate Average order value\n",
    "\n",
    "1. **Median**: Median is a more robust point statistic in case of a skewed distribution. So, it is better to use median instead of mean since the data is highly skewed in this case. \n",
    "\n",
    "2. **Outlier handling**: The outliers in the dataset can be imputed by the median value or by using any other imputation technique such as regression or knn imputation\n",
    "\n",
    "3. Unit price: If the unit price of sneaker is important for analysis, it can be calculated from the `order_amount` and `total_items` column and the average value of sneakers sold in the 100 shops can be calculated."
   ],
   "metadata": {}
  },
  {
   "cell_type": "markdown",
   "source": [
    "#### Outlier detection\n",
    "\n",
    "Calculating interquartile range (IQR) and identifying outliers based on IQR since using z-score cannot be used because of the highly skewed distribution"
   ],
   "metadata": {}
  },
  {
   "cell_type": "code",
   "execution_count": 60,
   "source": [
    "Q1 = df.order_amount.quantile(q=0.25)\r\n",
    "Q2 = df.order_amount.quantile(q=0.5)\r\n",
    "Q3 = df.order_amount.quantile(q=0.75)\r\n",
    "IQR = Q3 - Q1\r\n",
    "\r\n",
    "df_excluding_outliers = df_sneaker[(df_sneaker.order_amount < Q2 + IQR * 1.5) &\r\n",
    "                                   (df_sneaker.order_amount > Q2 - IQR * 1.5)]\r\n",
    "df_excluding_outliers.boxplot(column='order_amount')"
   ],
   "outputs": [
    {
     "output_type": "execute_result",
     "data": {
      "text/plain": [
       "<AxesSubplot:>"
      ]
     },
     "metadata": {},
     "execution_count": 60
    },
    {
     "output_type": "display_data",
     "data": {
      "image/png": "[encoded data removed]",
      "text/plain": [
       "<Figure size 432x288 with 1 Axes>"
      ]
     },
     "metadata": {
      "needs_background": "light"
     }
    }
   ],
   "metadata": {}
  },
  {
   "cell_type": "code",
   "execution_count": 62,
   "source": [
    "percentage_outliers = (1 - (df_excluding_outliers.shape[0] / df_sneaker.shape[0]))*100\r\n",
    "percentage_outliers"
   ],
   "outputs": [
    {
     "output_type": "execute_result",
     "data": {
      "text/plain": [
       "5.24"
      ]
     },
     "metadata": {},
     "execution_count": 62
    }
   ],
   "metadata": {}
  },
  {
   "cell_type": "markdown",
   "source": [
    "Since the percentage of outliers in the dataset is small (5.24%), therefore it is safe to drop these outliers from the dataset for further analysis"
   ],
   "metadata": {}
  },
  {
   "cell_type": "markdown",
   "source": [
    "## b. What metric would you report for this dataset?\n",
    "\n"
   ],
   "metadata": {}
  },
  {
   "cell_type": "code",
   "execution_count": 67,
   "source": [
    "df_excluding_outliers['order_amount'].mean()"
   ],
   "outputs": [
    {
     "output_type": "execute_result",
     "data": {
      "text/plain": [
       "283.81426762346985"
      ]
     },
     "metadata": {},
     "execution_count": 67
    }
   ],
   "metadata": {}
  },
  {
   "cell_type": "code",
   "execution_count": 64,
   "source": [
    "df_excluding_outliers['order_amount'].describe()"
   ],
   "outputs": [
    {
     "output_type": "execute_result",
     "data": {
      "text/plain": [
       "count    4738.000000\n",
       "mean      283.814268\n",
       "std       132.061996\n",
       "min        90.000000\n",
       "25%       161.000000\n",
       "50%       272.000000\n",
       "75%       362.000000\n",
       "max       624.000000\n",
       "Name: order_amount, dtype: float64"
      ]
     },
     "metadata": {},
     "execution_count": 64
    }
   ],
   "metadata": {}
  },
  {
   "cell_type": "markdown",
   "source": [
    "It can be observed that the `order_amount` is now skewed towards the lower side. Therefore it is still better to use median as the metric for deciding Average Order Value."
   ],
   "metadata": {}
  },
  {
   "cell_type": "markdown",
   "source": [
    "**Answer** The new metric will be the **median** of the column `order_amount`"
   ],
   "metadata": {}
  },
  {
   "cell_type": "markdown",
   "source": [
    "## c. What is its value?\n"
   ],
   "metadata": {}
  },
  {
   "cell_type": "code",
   "execution_count": 66,
   "source": [
    "aov = df_excluding_outliers['order_amount'].median()\r\n",
    "aov"
   ],
   "outputs": [
    {
     "output_type": "execute_result",
     "data": {
      "text/plain": [
       "272.0"
      ]
     },
     "metadata": {},
     "execution_count": 66
    }
   ],
   "metadata": {}
  },
  {
   "cell_type": "markdown",
   "source": [
    "## Question 2"
   ],
   "metadata": {}
  },
  {
   "cell_type": "markdown",
   "source": [
    "## a. How many orders were shipped by Speedy Express in total?\n"
   ],
   "metadata": {}
  },
  {
   "cell_type": "markdown",
   "source": [
    "The Shipper information is available in the Shippers table but it needs to be joined with the Orders table in order to get the number of orders. The table can be filtered for `Speedy Express` after joining and COUNT function can be used to get the total number of orders shipped by Speedy Express."
   ],
   "metadata": {}
  },
  {
   "cell_type": "code",
   "execution_count": null,
   "source": [
    "SELECT COUNT(*) FROM [Orders] as O\r\n",
    "LEFT JOIN [Shippers] as S\r\n",
    "ON S.ShipperID = O.ShipperID\r\n",
    "WHERE ShipperName = 'Speedy Express';"
   ],
   "outputs": [],
   "metadata": {}
  },
  {
   "cell_type": "markdown",
   "source": [
    "**Answer**. **54** orders were shipped by Speedy Express in total"
   ],
   "metadata": {}
  },
  {
   "cell_type": "markdown",
   "source": [
    "## b. What is the last name of the employee with the most orders?\n"
   ],
   "metadata": {}
  },
  {
   "cell_type": "markdown",
   "source": [
    "The employee information needs to be extracted from the Employee table whereas the orders information can be extracted from the Orders table. The two tables need to be joined in order to combine the information and groupby for each employee. The number of orders for each employee extracted by using groupby function can then be sorted in the descending order to get the employee with the most orders"
   ],
   "metadata": {}
  },
  {
   "cell_type": "code",
   "execution_count": null,
   "source": [
    "SELECT E.LastName, COUNT(*) as EmpOrders FROM [Orders] as O\r\n",
    "JOIN [Employees] as E\r\n",
    "ON O.EmployeeID = E.EmployeeID\r\n",
    "GROUP BY O.EmployeeID\r\n",
    "ORDER BY EmpOrders DESC;"
   ],
   "outputs": [],
   "metadata": {}
  },
  {
   "cell_type": "markdown",
   "source": [
    "**Answer**. Last name of the employee with highest orders (40) is **Peacock**"
   ],
   "metadata": {}
  },
  {
   "cell_type": "markdown",
   "source": [
    "## c. What product was ordered the most by customers in Germany?\n"
   ],
   "metadata": {}
  },
  {
   "cell_type": "markdown",
   "source": [
    "Country information is available in the Customers table while the Order information can be extracted from the Orders table by joining the two tables and filtering values for Germany."
   ],
   "metadata": {}
  },
  {
   "cell_type": "raw",
   "source": [
    "SELECT * FROM [Customers] as C\n",
    "JOIN [Orders] as O\n",
    "ON C.CustomerID = O.CustomerID\n",
    "WHERE Country = 'Germany';"
   ],
   "metadata": {}
  },
  {
   "cell_type": "markdown",
   "source": [
    "In order to extract product related information available in the Products table, the Order table must be joined with the OrderDetails table so the ProductID can be referenced and used as foreign key for joining the Product table. After joining the Order and Customer table with the OrderDetails table, the number of products can be calculated by using the sum function on the Quantity field of the OrderDetails table. It should then be sorted in the descending order."
   ],
   "metadata": {}
  },
  {
   "cell_type": "raw",
   "source": [
    "SELECT O.OrderID, C.Country, OD.ProductID,\n",
    "\tSUM(OD.Quantity) AS NumProducts\n",
    "\tFROM [Orders] as O\n",
    "JOIN [Customers] as C\n",
    "ON O.CustomerID = C.CustomerID\n",
    "JOIN [OrderDetails] as OD\n",
    "ON OD.OrderID = O.OrderID\n",
    "WHERE Country = 'Germany'\n",
    "GROUP BY OD.ProductID\n",
    "ORDER BY NumProducts DESC;"
   ],
   "metadata": {}
  },
  {
   "cell_type": "markdown",
   "source": [
    "Now, the ProductID needs to be referenced with the Products table in order to get the name of the product which was ordered the most by customers in Germany"
   ],
   "metadata": {}
  },
  {
   "cell_type": "raw",
   "source": [
    "SELECT O.OrderID, C.Country, OD.ProductID,\n",
    "\tP.ProductName,\n",
    "\tSUM(OD.Quantity) AS NumProducts\n",
    "\tFROM [Orders] as O\n",
    "JOIN [Customers] as C\n",
    "ON O.CustomerID = C.CustomerID\n",
    "JOIN [OrderDetails] as OD\n",
    "ON OD.OrderID = O.OrderID\n",
    "JOIN [Products] as P\n",
    "ON OD.ProductID = P.ProductID\n",
    "WHERE Country = 'Germany'\n",
    "GROUP BY OD.ProductID\n",
    "ORDER BY NumProducts DESC;\n"
   ],
   "metadata": {}
  },
  {
   "cell_type": "markdown",
   "source": [
    "**Answer.** **Boston Crab Meat** is the most ordered product by customers in Germany (160 times)"
   ],
   "metadata": {}
  },
  {
   "cell_type": "code",
   "execution_count": null,
   "source": [],
   "outputs": [],
   "metadata": {}
  }
 ],
 "metadata": {
  "kernelspec": {
   "display_name": "Python 3",
   "language": "python",
   "name": "python3"
  },
  "language_info": {
   "codemirror_mode": {
    "name": "ipython",
    "version": 3
   },
   "file_extension": ".py",
   "mimetype": "text/x-python",
   "name": "python",
   "nbconvert_exporter": "python",
   "pygments_lexer": "ipython3",
   "version": "3.8.12"
  }
 },
 "nbformat": 4,
 "nbformat_minor": 4
}